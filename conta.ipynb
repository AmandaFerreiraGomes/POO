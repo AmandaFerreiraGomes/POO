{
  "nbformat": 4,
  "nbformat_minor": 0,
  "metadata": {
    "colab": {
      "provenance": [],
      "authorship_tag": "ABX9TyPXY9EY+tPx6nL42zeY4e2W",
      "include_colab_link": true
    },
    "kernelspec": {
      "name": "python3",
      "display_name": "Python 3"
    },
    "language_info": {
      "name": "python"
    }
  },
  "cells": [
    {
      "cell_type": "markdown",
      "metadata": {
        "id": "view-in-github",
        "colab_type": "text"
      },
      "source": [
        "<a href=\"https://colab.research.google.com/github/AmandaFerreiraGomes/POO/blob/main/conta.ipynb\" target=\"_parent\"><img src=\"https://colab.research.google.com/assets/colab-badge.svg\" alt=\"Open In Colab\"/></a>"
      ]
    },
    {
      "cell_type": "code",
      "execution_count": null,
      "metadata": {
        "id": "mL6Ei5RMtMbH"
      },
      "outputs": [],
      "source": [
        "from datetime import datetime\n",
        "from pytz import timezone"
      ]
    },
    {
      "cell_type": "code",
      "source": [
        "class ContaCorrente:\n",
        "\n",
        "  CODIGO_BANCO : str = 'XXX'\n",
        "  \n",
        "  def __init__(self, agencia : str, conta : int, titular : str, saldo : float, limite : float):\n",
        "    \"\"\"\n",
        "    -> Função construtora.\n",
        "    Inicaliza as variáveis que serão utilizadas na classe.\n",
        "    \"\"\"\n",
        "    print('Construindo o objeto...', self)\n",
        "    self.__conta = conta\n",
        "    self.__titular = titular\n",
        "    self.__saldo = saldo\n",
        "    self.__limite = limite\n",
        "    self.__agencia = agencia\n",
        "  \n",
        "\n",
        "  def extrato(self):\n",
        "    \"\"\"\n",
        "    Retorna uma string com os dados da conta.\n",
        "    \"\"\"\n",
        "    print('\\033[32m-------------------------------- EXTRATO --------------------------------\\033[m')\n",
        "    tz = timezone('America/Sao_Paulo')\n",
        "    ct = datetime.now(tz=tz)\n",
        "    print(f\"\"\"  -- Agência: {self.__agencia} --\n",
        "    -- Conta: {self.__conta} --\n",
        "                  -- Titular: {self.__titular.upper()} --\n",
        "                  -- Saldo: R$ {self.__saldo} --\n",
        "                  -- Horario: {ct.isoformat()} --\n",
        "            \"\"\")\n",
        "    print('\\033[32m-------------------------------------------------------------------------\\033[m')\n",
        "\n",
        "  def deposita(self, valor : float):\n",
        "    \"\"\"\n",
        "    Adiciona o valor informado ao saldo.\n",
        "    \"\"\"\n",
        "    self.__saldo : float = self.__saldo + valor\n",
        "  \n",
        "\n",
        "  def __pode_sacar(self, valor : float):\n",
        "    \"\"\"\n",
        "    Retorna True, caso o valor seja maior que o limite ou que o saldo disponível para saque.\n",
        "    \"\"\"\n",
        "    return (valor > self.__limite) or (valor > self.__saldo)\n",
        "\n",
        "  def saca(self, valor : float):\n",
        "    \"\"\"\n",
        "    Caso o método privado __pode_sacar retorne True, a operação de saque não pode ser realizada. \n",
        "    Caso retorne False, a operação de saque é realizada e o valor é debitado do saldo.\n",
        "    \"\"\"\n",
        "    if self.__pode_sacar(valor) == True:\n",
        "      print('\\033[31mO saque não pôde ser realizado!\\033[31m')\n",
        "      print(f'\\033[31mSaldo Insuficiente!\\n-- Saldo disponível R$ {self.saldo:.2f}\\033[m')\n",
        "    else:\n",
        "      print(f'Saque realizado! Valor: R$ {valor:.2f}')\n",
        "      self.__saldo : float = self.__saldo - valor\n",
        "\n",
        "\n",
        "  def transfere(self, valor : float,  destino):\n",
        "    \"\"\"\n",
        "    Transfere um valor da conta que chama o método para a conta destino.\n",
        "    \"\"\"\n",
        "    self.saca(valor)\n",
        "    destino.deposita(valor)\n",
        "\n",
        "  @staticmethod\n",
        "  def codigos_bancos():\n",
        "    \"\"\"\n",
        "    Retorna um dicionário com os nomes dos bancos como chave e o código do banco como valor.\n",
        "    \"\"\"\n",
        "    return {'Caixa': '104', 'BB': '001', 'Bradesco': '237', 'Meu':'XXX'}\n",
        "\n",
        "  @property #getters\n",
        "  def saldo(self):\n",
        "    return self.__saldo\n",
        "  \n",
        "  @property #getters\n",
        "  def limite(self):\n",
        "    return self.__limite\n",
        "\n",
        "  @property #getters\n",
        "  def titular(self):\n",
        "    return self.__titular.title()\n",
        "\n",
        "  @limite.setter #setters\n",
        "  def limite(self, limite : float):\n",
        "    self.__limite : float = limite"
      ],
      "metadata": {
        "id": "sTfX1dijySKA"
      },
      "execution_count": null,
      "outputs": []
    },
    {
      "cell_type": "code",
      "source": [
        "if __name__ == '__main__':\n",
        "  conta_amanda = ContaCorrente('124', 721, 'Amanda', 0.00, 1000.00)\n",
        "  conta_amanda.deposita(101.5)\n",
        "  conta_mel = ContaCorrente('124', 725, 'Melsson', 150.00, 1000.0)\n",
        "  conta_mel.transfere(50.0,  conta_amanda)\n",
        "  conta_amanda.extrato()\n",
        "  conta_amanda.saca(1000)"
      ],
      "metadata": {
        "colab": {
          "base_uri": "https://localhost:8080/"
        },
        "id": "cQO9Kaa8yti3",
        "outputId": "501e1cdb-e510-4b8e-cafd-646f7828f640"
      },
      "execution_count": null,
      "outputs": [
        {
          "output_type": "stream",
          "name": "stdout",
          "text": [
            "Construindo o objeto... <__main__.ContaCorrente object at 0x7f7fd0d24b20>\n",
            "Construindo o objeto... <__main__.ContaCorrente object at 0x7f7fd0d24190>\n",
            "Saque realizado! Valor: R$ 50.00\n",
            "\u001b[32m-------------------------------- EXTRATO --------------------------------\u001b[m\n",
            "-- Agência: 124 --\n",
            "-- Conta: 721 --\n",
            "              -- Titular: AMANDA --\n",
            "              -- Saldo: R$ 151.5 --\n",
            "              -- Horario: 2022-12-20T21:18:23.858800-03:00 --\n",
            "            \n",
            "\u001b[32m-------------------------------------------------------------------------\u001b[m\n",
            "\u001b[31mO saque não pôde ser realizado!\u001b[31m\n",
            "\u001b[31mSaldo Insuficiente!\n",
            "-- Saldo disponível R$ 151.50\u001b[m\n"
          ]
        }
      ]
    }
  ]
}